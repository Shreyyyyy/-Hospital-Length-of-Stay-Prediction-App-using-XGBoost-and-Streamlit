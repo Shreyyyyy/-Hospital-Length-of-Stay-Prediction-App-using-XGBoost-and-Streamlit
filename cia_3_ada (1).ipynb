{
  "nbformat": 4,
  "nbformat_minor": 0,
  "metadata": {
    "colab": {
      "provenance": []
    },
    "kernelspec": {
      "name": "python3",
      "display_name": "Python 3"
    },
    "language_info": {
      "name": "python"
    }
  },
  "cells": [
    {
      "cell_type": "code",
      "source": [
        "# !pip install streamlit\n",
        "# !pip install pyngrok\n",
        "# !pip install xgboost"
      ],
      "metadata": {
        "id": "U3mwsnu6A4dy"
      },
      "execution_count": 15,
      "outputs": []
    },
    {
      "cell_type": "code",
      "execution_count": 28,
      "metadata": {
        "colab": {
          "base_uri": "https://localhost:8080/"
        },
        "id": "hzjAzpbq3Zk7",
        "outputId": "ba6d9ddd-7e05-4ffd-b2c8-51d1a8ab902d"
      },
      "outputs": [
        {
          "output_type": "stream",
          "name": "stdout",
          "text": [
            "Fitting 5 folds for each of 72 candidates, totalling 360 fits\n",
            "XGBoost model trained and saved successfully!\n",
            "Test Set Mean Squared Error: 11.860842181629302\n",
            "Test Set Root Mean Squared Error: 3.4439573431779467\n",
            "Best Hyperparameters: {'regressor__colsample_bytree': 1.0, 'regressor__learning_rate': 0.01, 'regressor__max_depth': 5, 'regressor__n_estimators': 200, 'regressor__subsample': 0.8}\n"
          ]
        }
      ],
      "source": [
        "import pandas as pd\n",
        "from sklearn.model_selection import train_test_split, GridSearchCV\n",
        "from sklearn.preprocessing import OneHotEncoder\n",
        "from sklearn.compose import ColumnTransformer\n",
        "from sklearn.pipeline import Pipeline\n",
        "from sklearn.metrics import mean_squared_error\n",
        "from xgboost import XGBRegressor\n",
        "import pickle\n",
        "import numpy as np\n",
        "\n",
        "# Load your dataset\n",
        "df = pd.read_csv('/content/drive/MyDrive/Colab Notebooks/ada.csv')\n",
        "\n",
        "# Assuming 'Procedure Codes' contains comma-separated values, count them\n",
        "df['Procedure Codes Count'] = df['Procedure Codes'].str.split(',').str.len()\n",
        "df.drop('Procedure Codes', axis=1, inplace=True)  # Drop the original 'Procedure Codes' column\n",
        "\n",
        "# Define independent variables (features) and dependent variable (target)\n",
        "X = df.drop('Length of Stay', axis=1)\n",
        "y = df['Length of Stay']\n",
        "\n",
        "# Categorical columns for one-hot encoding\n",
        "categorical_features = ['Gender', 'Admission Type', 'Primary Diagnosis',\n",
        "                        'Severity of Illness', 'Comorbidities', 'Ward/Department', 'Discharge Disposition']\n",
        "\n",
        "# Numerical columns now include 'Procedure Codes Count'\n",
        "numerical_features = ['Age', 'Procedure Codes Count']\n",
        "\n",
        "# Create a Column Transformer to apply transformations to the appropriate columns\n",
        "preprocessor = ColumnTransformer(\n",
        "    transformers=[\n",
        "        ('num', 'passthrough', numerical_features),  # No scaling needed for tree-based models\n",
        "        ('cat', OneHotEncoder(handle_unknown='ignore'), categorical_features)\n",
        "    ])\n",
        "\n",
        "# Create a pipeline that first transforms the data and then fits the model\n",
        "model_pipeline = Pipeline(steps=[\n",
        "    ('preprocessor', preprocessor),\n",
        "    ('regressor', XGBRegressor(random_state=42))\n",
        "])\n",
        "\n",
        "# Split the data into training and testing sets\n",
        "X_train, X_test, y_train, y_test = train_test_split(X, y, test_size=0.2, random_state=42)\n",
        "\n",
        "# Define the hyperparameter grid for XGBoost\n",
        "param_grid = {\n",
        "    'regressor__n_estimators': [100, 200],\n",
        "    'regressor__max_depth': [3, 5, 7],\n",
        "    'regressor__learning_rate': [0.01, 0.1, 0.2],\n",
        "    'regressor__subsample': [0.8, 1.0],\n",
        "    'regressor__colsample_bytree': [0.8, 1.0]\n",
        "}\n",
        "\n",
        "# Perform grid search with cross-validation\n",
        "grid_search = GridSearchCV(model_pipeline, param_grid, cv=5, n_jobs=-1, scoring='neg_mean_squared_error', verbose=2)\n",
        "\n",
        "# Train the model with grid search\n",
        "grid_search.fit(X_train, y_train)\n",
        "\n",
        "# Save the best model\n",
        "with open('xgb_model_pipeline.pkl', 'wb') as file:\n",
        "    pickle.dump(grid_search.best_estimator_, file)\n",
        "\n",
        "# Evaluate the model on the test set\n",
        "y_pred = grid_search.best_estimator_.predict(X_test)\n",
        "mse = mean_squared_error(y_test, y_pred)\n",
        "rmse = np.sqrt(mse)\n",
        "\n",
        "print(\"XGBoost model trained and saved successfully!\")\n",
        "print(f\"Test Set Mean Squared Error: {mse}\")\n",
        "print(f\"Test Set Root Mean Squared Error: {rmse}\")\n",
        "print(f\"Best Hyperparameters: {grid_search.best_params_}\")\n"
      ]
    },
    {
      "cell_type": "code",
      "source": [
        "# from sklearn.model_selection import GridSearchCV\n",
        "\n",
        "# # Define the hyperparameters to tune\n",
        "# param_grid = {\n",
        "#     'regressor__n_estimators': [100, 200, 300],\n",
        "#     'regressor__max_depth': [10, 20, 30, None],\n",
        "#     'regressor__min_samples_split': [2, 5, 10],\n",
        "#     'regressor__min_samples_leaf': [1, 2, 4],\n",
        "#     'regressor__max_features': ['auto', 'sqrt', 'log2']\n",
        "# }\n",
        "\n",
        "# # Create a grid search over your pipeline\n",
        "# grid_search = GridSearchCV(model_pipeline, param_grid, cv=5, scoring='neg_root_mean_squared_error')\n",
        "\n",
        "# # Fit the grid search\n",
        "# grid_search.fit(X_train, y_train)\n",
        "\n",
        "# # Output the best hyperparameters and RMSE\n",
        "# best_model = grid_search.best_estimator_\n",
        "# print(f\"Best hyperparameters: {grid_search.best_params_}\")\n",
        "# print(f\"Best RMSE: {-grid_search.best_score_}\")\n",
        "\n",
        "# # Use the best model to make predictions on the test set\n",
        "# y_pred = best_model.predict(X_test)\n",
        "# rmse = np.sqrt(mean_squared_error(y_test, y_pred))\n",
        "\n",
        "# print(f\"Test Set Root Mean Squared Error with Best Model: {rmse}\")"
      ],
      "metadata": {
        "id": "rXEcEASwhIyL"
      },
      "execution_count": 13,
      "outputs": []
    },
    {
      "cell_type": "code",
      "source": [
        "# import pickle\n",
        "# from sklearn.model_selection import GridSearchCV\n",
        "\n",
        "# # Assume that grid_search has already been performed\n",
        "# grid_search = GridSearchCV(model_pipeline, param_grid, cv=5, scoring='neg_root_mean_squared_error')\n",
        "\n",
        "# # Fit the grid search\n",
        "# grid_search.fit(X_train, y_train)\n",
        "\n",
        "# # Retrieve the best model (which is a pipeline)\n",
        "# best_model_pipeline = grid_search.best_estimator_\n",
        "\n",
        "# # Save the best model pipeline to a file\n",
        "# with open('model_pipeline_tuned.pkl', 'wb') as f:\n",
        "#     pickle.dump(best_model_pipeline, f)\n",
        "\n",
        "# print(\"Best model pipeline saved successfully!\")\n"
      ],
      "metadata": {
        "id": "MGulXNN0imCg"
      },
      "execution_count": 14,
      "outputs": []
    },
    {
      "cell_type": "code",
      "source": [
        "%%writefile new.py\n",
        "import streamlit as st\n",
        "import pandas as pd\n",
        "import numpy as np\n",
        "import pickle\n",
        "\n",
        "# Load the trained model\n",
        "model_pipeline = pickle.load(open('/content/xgb_model_pipeline.pkl', 'rb'))\n",
        "\n",
        "def predict_length_of_stay():\n",
        "    # Custom CSS for styling\n",
        "    st.markdown(\"\"\"\n",
        "        <style>\n",
        "            .description {\n",
        "                font-size: 18px;\n",
        "                font-family: 'Times New Roman', Times, serif;\n",
        "                font-weight: bold;\n",
        "                color: #ffffff; /* Bright white text color */\n",
        "                text-align: center;\n",
        "                margin-bottom: 20px;\n",
        "                padding: 10px;\n",
        "                background: linear-gradient(135deg, #6a82fb, #fc5c7d); /* Modern violet and pink gradient */\n",
        "                border-radius: 10px;\n",
        "                box-shadow: 0 8px 16px rgba(0, 0, 0, 0.15); /* Enhanced shadow for better depth */\n",
        "                border: 1px solid #ffffff; /* White border for a clean finish */\n",
        "            }\n",
        "            .day-box {\n",
        "                background: linear-gradient(45deg, #f3ec78, #af4261);\n",
        "                color: white;\n",
        "                padding: 15px;\n",
        "                margin-bottom: 10px;\n",
        "                border-radius: 10px;\n",
        "                transition: transform 0.3s ease;\n",
        "                cursor: pointer;\n",
        "            }\n",
        "            .day-box:hover {\n",
        "                transform: translateY(-5px);\n",
        "                background: linear-gradient(45deg, #af4261, #f3ec78);\n",
        "            }\n",
        "            .day-title {\n",
        "                font-weight: bold;\n",
        "                font-size: 20px;\n",
        "            }\n",
        "        </style>\n",
        "    \"\"\", unsafe_allow_html=True)\n",
        "\n",
        "    # Project explanation at the top\n",
        "    st.markdown(\"\"\"\n",
        "    <div class=\"description\">\n",
        "        This project predicts a patient's hospital length of stay based on their medical details,\n",
        "        including diagnosis, severity, and procedures. The system uses machine learning to assist\n",
        "        healthcare providers in planning care and resource management effectively.\n",
        "    </div>\n",
        "    \"\"\", unsafe_allow_html=True)\n",
        "\n",
        "    st.title('🏥 Hospital Length of Stay Prediction')\n",
        "    st.markdown(\"\"\"\n",
        "        ### Please fill in the patient details below to predict the hospital stay duration.\n",
        "    \"\"\")\n",
        "\n",
        "    # Streamlit columns for better layout\n",
        "    col1, col2 = st.columns(2)\n",
        "\n",
        "    with col1:\n",
        "        age = st.slider(\"🧑‍🦳 Age\", min_value=0, max_value=120, value=30, step=1, help=\"Select the patient's age\")\n",
        "        gender = st.selectbox(\"⚧ Gender\", ['Male', 'Female'], help=\"Select the patient's gender\")\n",
        "        admission_type = st.selectbox(\"🏥 Admission Type\", ['Emergency', 'Elective', 'Urgent'], help=\"Select the type of admission\")\n",
        "\n",
        "    with col2:\n",
        "        primary_diagnosis = st.selectbox(\"🩺 Primary Diagnosis\", ['Diabetes', 'Hypertension', 'Asthma', 'Heart Disease'], help=\"Select the patient's primary diagnosis\")\n",
        "        severity_of_illness = st.selectbox(\"🩸 Severity of Illness\", ['Mild', 'Moderate', 'Severe'], help=\"Select the severity of the patient's illness\")\n",
        "        comorbidities = st.text_input(\"🦠 Comorbidities (comma-separated)\", placeholder=\"e.g., Arthritis, None\", help=\"Enter any comorbidities separated by commas\")\n",
        "\n",
        "    st.markdown(\"---\")\n",
        "\n",
        "    # Second row for additional details\n",
        "    col3, col4 = st.columns(2)\n",
        "\n",
        "    with col3:\n",
        "        procedure_codes = st.text_input(\"💉 Procedure Codes (comma-separated)\", placeholder=\"e.g., 4019, 2500\", help=\"Enter the codes for any procedures\")\n",
        "        ward_department = st.selectbox(\"🏢 Ward/Department\", ['Cardiology', 'Orthopedics', 'Respiratory'], help=\"Select the department or ward\")\n",
        "\n",
        "    with col4:\n",
        "        discharge_disposition = st.selectbox(\"🚶 Discharge Disposition\", ['Home', 'Transferred to another facility'], help=\"Select where the patient is discharged to\")\n",
        "\n",
        "    # Handle missing or empty inputs\n",
        "    if not comorbidities:\n",
        "        comorbidities = 'None'\n",
        "    procedure_codes_count = len(procedure_codes.split(',')) if procedure_codes else 0\n",
        "\n",
        "    # Interactive prediction button\n",
        "    st.markdown(\"### When ready, click the button to predict the length of stay\")\n",
        "    predict_button = st.button('🔍 Predict Length of Stay')\n",
        "\n",
        "    if predict_button:\n",
        "        data = {\n",
        "            'Age': [age],\n",
        "            'Gender': [gender],\n",
        "            'Admission Type': [admission_type],\n",
        "            'Primary Diagnosis': [primary_diagnosis],\n",
        "            'Severity of Illness': [severity_of_illness],\n",
        "            'Comorbidities': [comorbidities],\n",
        "            'Procedure Codes Count': [procedure_codes_count],\n",
        "            'Ward/Department': [ward_department],\n",
        "            'Discharge Disposition': [discharge_disposition]\n",
        "        }\n",
        "\n",
        "        input_df = pd.DataFrame(data)\n",
        "        predicted_length_of_stay = model_pipeline.predict(input_df)\n",
        "        predicted_length_of_stay = np.round(predicted_length_of_stay[0]).astype(int)\n",
        "\n",
        "        # Display the predicted length of stay with style\n",
        "        st.success(f\"🚑 The predicted length of stay is: **{predicted_length_of_stay} days**\")\n",
        "        st.balloons()\n",
        "\n",
        "        # Explain what might happen on each day\n",
        "        st.markdown(\"### Breakdown of Each Day's Procedures\")\n",
        "        st.info(\"Here's an overview of what happens during the patient's hospital stay:\")\n",
        "\n",
        "        for day in range(1, predicted_length_of_stay + 1):\n",
        "            st.markdown(f\"\"\"\n",
        "            <div class=\"day-box\">\n",
        "                <p class=\"day-title\">Day {day}:</p>\n",
        "                <p>{get_day_details(day, predicted_length_of_stay)}</p>\n",
        "            </div>\n",
        "            \"\"\", unsafe_allow_html=True)\n",
        "\n",
        "def get_day_details(day, predicted_length_of_stay):\n",
        "    if day == 1:\n",
        "        return \"Initial assessments, diagnostic tests, and beginning of treatment. The patient is monitored closely for any immediate responses.\"\n",
        "    elif day == 2:\n",
        "        return \"Continued monitoring of vital signs and response to treatment. Adjustments to the treatment plan may be made based on the patient's progress.\"\n",
        "    elif day == 3:\n",
        "        return \"Procedures or interventions, such as surgeries or specific treatments (based on the diagnosis), may take place. Continued recovery and monitoring.\"\n",
        "    elif day <= predicted_length_of_stay - 1:\n",
        "        return \"Ongoing treatment, physiotherapy, or rehabilitation based on the condition. The patient is encouraged to begin mobility exercises if applicable.\"\n",
        "    else:\n",
        "        return \"Discharge planning begins. Final assessments and preparation for going home or transfer to another facility are completed.\"\n",
        "\n",
        "if __name__ == '__main__':\n",
        "    predict_length_of_stay()\n"
      ],
      "metadata": {
        "colab": {
          "base_uri": "https://localhost:8080/"
        },
        "id": "IduXv8eQnAmG",
        "outputId": "52db69ac-daad-4a5f-b831-038d5f38d34e"
      },
      "execution_count": 44,
      "outputs": [
        {
          "output_type": "stream",
          "name": "stdout",
          "text": [
            "Overwriting new.py\n"
          ]
        }
      ]
    },
    {
      "cell_type": "code",
      "source": [
        "#killimng the previous run\n",
        "!pkill -f streamlit"
      ],
      "metadata": {
        "id": "O6KIfLiVBNyY"
      },
      "execution_count": 5,
      "outputs": []
    },
    {
      "cell_type": "code",
      "source": [
        "!choco install ngrok"
      ],
      "metadata": {
        "colab": {
          "base_uri": "https://localhost:8080/"
        },
        "id": "ktM3NQX9BLmh",
        "outputId": "759c9268-f862-4c00-9791-acda1b69eae4"
      },
      "execution_count": 6,
      "outputs": [
        {
          "output_type": "stream",
          "name": "stdout",
          "text": [
            "/bin/bash: line 1: choco: command not found\n"
          ]
        }
      ]
    },
    {
      "cell_type": "code",
      "source": [
        "# authentocation\n",
        "!ngrok config add-authtoken \"2kqawfT6uoasLTlQyAR27wE5qYd_7vNpb4kyfFKm8QsNUq9EW\""
      ],
      "metadata": {
        "colab": {
          "base_uri": "https://localhost:8080/"
        },
        "id": "xpZNcYzQBIO6",
        "outputId": "74ce702f-db0b-4143-c8e6-6f3c072f6df3"
      },
      "execution_count": 7,
      "outputs": [
        {
          "output_type": "stream",
          "name": "stdout",
          "text": [
            "Authtoken saved to configuration file: /root/.config/ngrok/ngrok.yml\n"
          ]
        }
      ]
    },
    {
      "cell_type": "code",
      "source": [
        "from pyngrok import ngrok\n",
        "import subprocess\n",
        "\n",
        "# Function to start Streamlit\n",
        "def start_streamlit():\n",
        "    subprocess.run([\"streamlit\", \"run\", \"new.py\"], check=True)\n",
        "\n",
        "# Function to start ngrok tunnel\n",
        "def start_ngrok(port):\n",
        "    ngrok_tunnel = ngrok.connect(port)\n",
        "    print(f\"Streamlit app is live at: {ngrok_tunnel.public_url}\")\n",
        "\n",
        "# Start the ngrok tunnel for port 8501 (default for Streamlit)\n",
        "port = 8501\n",
        "start_ngrok(port)\n",
        "\n",
        "# Run the Streamlit app\n",
        "start_streamlit()\n"
      ],
      "metadata": {
        "colab": {
          "base_uri": "https://localhost:8080/"
        },
        "id": "cckACL2vBF0u",
        "outputId": "981e79eb-39a3-4ad8-a015-0b6a404f91b2"
      },
      "execution_count": null,
      "outputs": [
        {
          "output_type": "stream",
          "name": "stdout",
          "text": [
            "Streamlit app is live at: https://3233-104-154-250-209.ngrok-free.app\n"
          ]
        }
      ]
    }
  ]
}